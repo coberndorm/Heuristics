{
 "cells": [
  {
   "cell_type": "code",
   "execution_count": null,
   "metadata": {},
   "outputs": [],
   "source": [
    "%pip install -r requirements.txt"
   ]
  },
  {
   "cell_type": "code",
   "execution_count": 1,
   "metadata": {},
   "outputs": [],
   "source": [
    "import os\n",
    "import numpy as np\n",
    "import time\n",
    "import constructivo as constr\n",
    "from auxiliar_functions import *\n",
    "from local_search import *\n",
    "\n",
    "#utilizar xlwt para escribir en excel\n"
   ]
  },
  {
   "cell_type": "code",
   "execution_count": 2,
   "metadata": {},
   "outputs": [],
   "source": [
    "directory_path = '../JSSP_Instances'\n",
    "directory_files = os.listdir(directory_path)\n",
    "directory_files.sort()"
   ]
  },
  {
   "cell_type": "code",
   "execution_count": 3,
   "metadata": {},
   "outputs": [],
   "source": [
    "import xlrd, xlwt\n",
    "from xlutils.copy import copy as xl_copy\n",
    "from xlwt import Workbook\n",
    "\n",
    "\n",
    "def write_xlsx(machine_order, makespan, time, name_sheet, name_file):\n",
    "    # Create a new workbook\n",
    "    \n",
    "    try:\n",
    "        # open existing workbook\n",
    "        rb = xlrd.open_workbook(name_file, formatting_info=True)\n",
    "        # make a copy of it\n",
    "        workbook = xl_copy(rb)\n",
    "    except:\n",
    "        workbook = Workbook()\n",
    "    sheet = workbook.add_sheet(name_sheet)\n",
    "    \n",
    "    # Iterate over the matrix and write its values to the sheet\n",
    "    for row_index, row in enumerate(machine_order, start=1):\n",
    "        for col_index, value in enumerate(row, start=1):\n",
    "            sheet.write(row_index - 1, col_index - 1, value)  # Note: row_index and col_index should start from 0\n",
    "    \n",
    "    # Write makespan and time to the next row\n",
    "    row_index = len(machine_order)\n",
    "    sheet.write(row_index, 0, int(makespan))\n",
    "    sheet.write(row_index, 1, time)\n",
    "\n",
    "    # Save the workbook to the specified file\n",
    "    workbook.save(name_file)"
   ]
  },
  {
   "cell_type": "code",
   "execution_count": 4,
   "metadata": {},
   "outputs": [],
   "source": [
    "with open('cotas.txt', 'r') as f:\n",
    "    cotas = f.readlines()\n",
    "    cotas = [int(line.strip()) for line in cotas]\n",
    "\n",
    "with open('TimeLimit.txt', 'r') as f:\n",
    "    # Note time is in minutes\n",
    "    max_time = f.readlines()\n",
    "    max_time = [int(line.strip()) for line in max_time]"
   ]
  },
  {
   "cell_type": "code",
   "execution_count": 5,
   "metadata": {},
   "outputs": [
    {
     "name": "stdout",
     "output_type": "stream",
     "text": [
      "JSSP1.txt -> Constr:  1462  Cota:  991\n",
      "VNS ->  1419\n",
      "\n",
      "JSSP2.txt -> Constr:  1446  Cota:  985\n",
      "VNS ->  1428\n",
      "\n",
      "JSSP3.txt -> Constr:  1865  Cota:  1177\n",
      "VNS ->  1845\n",
      "\n",
      "JSSP4.txt -> Constr:  1667  Cota:  1218\n",
      "VNS ->  1608\n",
      "\n",
      "JSSP5.txt -> Constr:  2175  Cota:  1223\n",
      "VNS ->  2082\n",
      "\n",
      "JSSP6.txt -> Constr:  1965  Cota:  1270\n",
      "VNS ->  1962\n",
      "\n",
      "JSSP7.txt -> Constr:  2335  Cota:  1818\n",
      "VNS ->  2291\n",
      "\n",
      "JSSP8.txt -> Constr:  2432  Cota:  1838\n",
      "VNS ->  2392\n",
      "\n",
      "JSSP9.txt -> Constr:  2499  Cota:  1876\n",
      "VNS ->  2405\n",
      "\n",
      "JSSP10.txt -> Constr:  2710  Cota:  1784\n",
      "VNS ->  2607\n",
      "\n",
      "JSSP11.txt -> Constr:  3856  Cota:  2825\n",
      "VNS ->  3507\n",
      "\n",
      "JSSP12.txt -> Constr:  3266  Cota:  3001\n",
      "VNS ->  3231\n",
      "\n",
      "JSSP13.txt -> Constr:  3606  Cota:  2917\n",
      "VNS ->  3547\n",
      "\n",
      "JSSP14.txt -> Constr:  3639  Cota:  2950\n",
      "VNS ->  3466\n",
      "\n",
      "JSSP15.txt -> Constr:  6232  Cota:  5525\n",
      "VNS ->  6152\n",
      "\n",
      "JSSP16.txt -> Constr:  5973  Cota:  5676\n",
      "VNS ->  5963\n",
      "\n"
     ]
    }
   ],
   "source": [
    "#Reading all the information\n",
    "for file_num in range(1, len(directory_files)+1):\n",
    "  file = \"JSSP\" + str(file_num) + \".txt\"\n",
    "  with open(directory_path + \"/\" + file, \"r\" ) as f:\n",
    "  #with open(\"../AAA_test\", \"r\" ) as f:\n",
    "    size = f.readline().split()\n",
    "    # n = trabajos, m = maquinas\n",
    "    n, m = int(size[0]), int(size[1])\n",
    "    data = list(f)\n",
    "    for i,line in enumerate(data):\n",
    "      data[i] = [int(x) for x in line.strip().split() if x is not None and x != '']\n",
    "\n",
    "    processing_time = data[0:n]\n",
    "    machines_required = data[n:2*n]\n",
    "  \n",
    "  # Cota inferior\n",
    "  machines = {i:[[ j+1, processing_time[j][z], z, False] for z in range(m) for j in range(n)  if machines_required[j][z] == i]for i in range(1,m+1)}\n",
    "  cota_inferior = cotas[file_num-1]\n",
    "\n",
    "  # Create job objects\n",
    "  jobs_constr = [constr.Job(np.array(machines_required)[i, :], np.array(processing_time)[i, :], i + 1) for i in range(n)]\n",
    "\n",
    "  #Sorted array in which the first value is always the first machine that \n",
    "  machines_constr = [constr.Machine(i+1) for i in range(m)]\n",
    "  # Record the start time\n",
    "  constr_start_time = time.time(); ans_constr, machine_order_constr = constr.constructivo(jobs_constr, machines_constr); constr_end_time = time.time()\n",
    "\n",
    "  # Record the start time\n",
    "  vns_start_time = time.time()\n",
    "  vns_sol = variable_neighborhood_search(machine_order_constr, processing_time, machines_required, n, m, max_time=max_time[file_num-1])\n",
    "  vns_end_time = time.time()\n",
    "\n",
    "  print(file, \"-> Constr: \", ans_constr, \" Cota: \", cota_inferior)\n",
    "  print(\"VNS -> \" , makespan(vns_sol, processing_time, machines_required, n, m))\n",
    "  print()\n",
    "  \n",
    "\n",
    "  write_xlsx(vns_sol, makespan(vns_sol , processing_time, machines_required, n, m), vns_end_time - vns_start_time, file, \"JSSP_coberndorm_vns.xlsx\")\n",
    "  #write_xlsx(_, makespan(_, processing_time, machines_required, n, m), best_insert_back_end_time - best_insert_back_start_time, file, \"JSSP_coberndorm_best_improvement_insert_backward.xlsx\")\n"
   ]
  },
  {
   "cell_type": "code",
   "execution_count": null,
   "metadata": {},
   "outputs": [],
   "source": [
    "with open('makespan_constr.txt', 'r') as f:\n",
    "    makespan_constr = f.readlines()\n",
    "    makespan_constr = [int(line.strip()) for line in makespan_constr]"
   ]
  },
  {
   "cell_type": "code",
   "execution_count": 181,
   "metadata": {},
   "outputs": [
    {
     "name": "stdout",
     "output_type": "stream",
     "text": [
      "Current method:  JSSP_coberndorm_vns.xlsx\n"
     ]
    },
    {
     "ename": "NameError",
     "evalue": "name 'makespan_constr' is not defined",
     "output_type": "error",
     "traceback": [
      "\u001b[0;31m---------------------------------------------------------------------------\u001b[0m",
      "\u001b[0;31mNameError\u001b[0m                                 Traceback (most recent call last)",
      "\u001b[1;32m/home/coberndorm/Documents/Semestre_IX/Heuristics/Trabajo_3/main.ipynb Cell 8\u001b[0m line \u001b[0;36m3\n\u001b[1;32m     <a href='vscode-notebook-cell:/home/coberndorm/Documents/Semestre_IX/Heuristics/Trabajo_3/main.ipynb#X10sZmlsZQ%3D%3D?line=35'>36</a>\u001b[0m     efficacy \u001b[39m=\u001b[39m (makespan_val \u001b[39m-\u001b[39m cota_file)\u001b[39m/\u001b[39mcota_file\n\u001b[1;32m     <a href='vscode-notebook-cell:/home/coberndorm/Documents/Semestre_IX/Heuristics/Trabajo_3/main.ipynb#X10sZmlsZQ%3D%3D?line=36'>37</a>\u001b[0m     average_distance_to_limit\u001b[39m.\u001b[39mappend(efficacy)\n\u001b[0;32m---> <a href='vscode-notebook-cell:/home/coberndorm/Documents/Semestre_IX/Heuristics/Trabajo_3/main.ipynb#X10sZmlsZQ%3D%3D?line=37'>38</a>\u001b[0m     average_improvement\u001b[39m.\u001b[39mappend((makespan_constr[i\u001b[39m-\u001b[39m\u001b[39m1\u001b[39m] \u001b[39m-\u001b[39m makespan_val)\u001b[39m/\u001b[39mmakespan_constr[i\u001b[39m-\u001b[39m\u001b[39m1\u001b[39m])\n\u001b[1;32m     <a href='vscode-notebook-cell:/home/coberndorm/Documents/Semestre_IX/Heuristics/Trabajo_3/main.ipynb#X10sZmlsZQ%3D%3D?line=39'>40</a>\u001b[0m \u001b[39mprint\u001b[39m(\u001b[39m\"\u001b[39m\u001b[39maverage distance to limit: \u001b[39m\u001b[39m\"\u001b[39m, \u001b[39mround\u001b[39m(\u001b[39msum\u001b[39m(average_distance_to_limit)\u001b[39m/\u001b[39m\u001b[39mlen\u001b[39m(average_distance_to_limit), \u001b[39m4\u001b[39m))\n\u001b[1;32m     <a href='vscode-notebook-cell:/home/coberndorm/Documents/Semestre_IX/Heuristics/Trabajo_3/main.ipynb#X10sZmlsZQ%3D%3D?line=40'>41</a>\u001b[0m \u001b[39mprint\u001b[39m(\u001b[39m\"\u001b[39m\u001b[39maverage improvement: \u001b[39m\u001b[39m\"\u001b[39m, \u001b[39mround\u001b[39m(\u001b[39msum\u001b[39m(average_improvement)\u001b[39m/\u001b[39m\u001b[39mlen\u001b[39m(average_improvement),\u001b[39m4\u001b[39m))\n",
      "\u001b[0;31mNameError\u001b[0m: name 'makespan_constr' is not defined"
     ]
    }
   ],
   "source": [
    "import os\n",
    "import xlrd\n",
    "\n",
    "# Get a list of Excel files in the current directory\n",
    "directory_files = os.listdir()\n",
    "directory_files.sort()\n",
    "directory_files = [file for file in directory_files if file.endswith('.xlsx')]\n",
    "\n",
    "for file in directory_files:\n",
    "    # Specify the path to your Excel file\n",
    "    excel_file_path = file\n",
    "    print(\"Current method: \", excel_file_path)\n",
    "    average_distance_to_limit = []\n",
    "    average_improvement = []\n",
    "\n",
    "    for i in range(1,16+1):\n",
    "        sheet_name = f\"JSSP{i}.txt\"  # Change this to the desired sheet name\n",
    "        column_letter = \"B\"      # Change this to the desired column letter\n",
    "\n",
    "        # Open the Excel workbook\n",
    "        workbook = xlrd.open_workbook(excel_file_path, formatting_info=True)\n",
    "\n",
    "        # Select the specific sheet by name\n",
    "        sheet = workbook.sheet_by_name(sheet_name)\n",
    "\n",
    "        # Find the last row with data in the specified column (column B)\n",
    "        max_row = sheet.nrows -1\n",
    "\n",
    "        # Read the value from the last cell in column B\n",
    "        makespan_val = sheet.cell_value(max_row, 0)\n",
    "        # Read the value from the last cell in column B\n",
    "        time_val = sheet.cell_value(max_row, 1)\n",
    "\n",
    "        cota_file = cotas[i-1]\n",
    "\n",
    "        efficacy = (makespan_val - cota_file)/cota_file\n",
    "        average_distance_to_limit.append(efficacy)\n",
    "        average_improvement.append((makespan_constr[i-1] - makespan_val)/makespan_constr[i-1])\n",
    "\n",
    "    print(\"average distance to limit: \", round(sum(average_distance_to_limit)/len(average_distance_to_limit), 4))\n",
    "    print(\"average improvement: \", round(sum(average_improvement)/len(average_improvement),4))\n",
    "    "
   ]
  },
  {
   "cell_type": "code",
   "execution_count": 350,
   "metadata": {},
   "outputs": [
    {
     "name": "stdout",
     "output_type": "stream",
     "text": [
      "JSSP1.txt -> Constr:  1462  Cota:  991\n",
      "VNS ->  1435\n",
      "\n"
     ]
    }
   ],
   "source": [
    "#Reading all the information\n",
    "for file_num in range(1, len(directory_files)+1):\n",
    "  file = \"JSSP\" + str(file_num) + \".txt\"\n",
    "  with open(directory_path + \"/\" + file, \"r\" ) as f:\n",
    "  #with open(\"../AAA_test\", \"r\" ) as f:\n",
    "    size = f.readline().split()\n",
    "    # n = trabajos, m = maquinas\n",
    "    n, m = int(size[0]), int(size[1])\n",
    "    data = list(f)\n",
    "    for i,line in enumerate(data):\n",
    "      data[i] = [int(x) for x in line.strip().split() if x is not None and x != '']\n",
    "\n",
    "    processing_time = data[0:n]\n",
    "    machines_required = data[n:2*n]\n",
    "  \n",
    "  # Cota inferior\n",
    "  machines = {i:[[ j+1, processing_time[j][z], z, False] for z in range(m) for j in range(n)  if machines_required[j][z] == i]for i in range(1,m+1)}\n",
    "  cota_inferior = cotas[file_num-1]\n",
    "\n",
    "  # Create job objects\n",
    "  jobs_constr = [constr.Job(np.array(machines_required)[i, :], np.array(processing_time)[i, :], i + 1) for i in range(n)]\n",
    "\n",
    "  #Sorted array in which the first value is always the first machine that \n",
    "  machines_constr = [constr.Machine(i+1) for i in range(m)]\n",
    "  # Record the start time\n",
    "  constr_start_time = time.time(); ans_constr, machine_order_constr = constr.constructivo(jobs_constr, machines_constr); constr_end_time = time.time()\n",
    "\n",
    "  # Record the start time\n",
    "  vns_start_time = time.time()\n",
    "  vns_sol = variable_neighborhood_search(machine_order_constr, processing_time, machines_required, n, m, max_time=max_time[file_num-1])\n",
    "  vns_end_time = time.time()\n",
    "\n",
    "  print(file, \"-> Constr: \", ans_constr, \" Cota: \", cota_inferior)\n",
    "  print(\"VNS -> \" , makespan(vns_sol, processing_time, machines_required, n, m))\n",
    "  print()\n",
    "  break"
   ]
  },
  {
   "cell_type": "code",
   "execution_count": 360,
   "metadata": {},
   "outputs": [],
   "source": [
    "import random\n",
    "import copy\n",
    "\n",
    "def repair_method(destroyed_jobs, sol, machines_required, n, m):\n",
    "\n",
    "    while True:\n",
    "\n",
    "        new_sol = copy.deepcopy(sol)\n",
    "\n",
    "        # Insert the shuffled values into the target list\n",
    "        for mach in destroyed_jobs.keys():\n",
    "            for job in destroyed_jobs[mach]:\n",
    "                index_to_insert = random.randint(0, len(new_sol[mach-1]))\n",
    "                new_sol[mach-1].insert(index_to_insert,job)\n",
    "\n",
    "        return new_sol\n",
    "        if feasible(new_sol, machines_required, n, m):\n",
    "            return new_sol\n",
    "\n",
    "\n",
    "def LNS(sol, processing_time, machines_required, n, m, lns_destroy_percentage):\n",
    "    sol_time = makespan(sol, processing_time, machines_required, n, m)\n",
    "    stop = False; job_size = n*m\n",
    "\n",
    "    # Dictionary that maps the job number to the process number\n",
    "    processes_num = {i * m + j +1: (i+1,machines_required[i][j])  for i in range(n) for j in range(m)}\n",
    "\n",
    "    sol_time_best = sol_time\n",
    "\n",
    "    while stop == False:\n",
    "        stop = True\n",
    "        \n",
    "        sol_copy = copy.deepcopy(sol)\n",
    "        # Implement Large Neighborhood Search (LNS)\n",
    "        # Destroy a subset of the solution, e.g., by removing some jobs\n",
    "        num_jobs_to_destroy = int(lns_destroy_percentage * job_size)\n",
    "        destroyed_indices = random.sample(range(1,job_size+1), num_jobs_to_destroy)\n",
    "\n",
    "        # Remove the jobs from the solution\n",
    "        destroyed_jobs = {i:[] for i in range(1,m+1)}\n",
    "        for index in destroyed_indices:\n",
    "            job, mach = processes_num[index]\n",
    "            destroyed_jobs[mach].append(job)\n",
    "            sol_copy[mach-1].pop(sol_copy[mach-1].index(job))\n",
    "\n",
    "        \n",
    "        # Apply a repair method to reconstruct the solution\n",
    "        repaired_sol = repair_method(destroyed_jobs, sol_copy, machines_required, n, m)\n",
    "\n",
    "        return repaired_sol\n",
    "        repaired_sol_time = makespan(repaired_sol, processing_time, machines_required, n, m)\n",
    "        \n",
    "        print(1)\n",
    "        if repaired_sol_time < sol_time_best:\n",
    "            sol_best = repaired_sol\n",
    "            sol_time = repaired_sol_time\n",
    "            stop = True\n",
    "            return sol_best, sol_time\n",
    "    \n",
    "                    \n",
    "    return sol"
   ]
  },
  {
   "cell_type": "code",
   "execution_count": 370,
   "metadata": {},
   "outputs": [
    {
     "data": {
      "text/plain": [
       "(15,\n",
       " [[12, 8, 10, 11, 9, 1, 4, 3, 15, 13, 2, 7, 5, 14, 6],\n",
       "  [3, 15, 9, 7, 10, 8, 12, 11, 14, 2, 5, 6, 1, 13, 4],\n",
       "  [12, 10, 4, 5, 1, 13, 9, 3, 8, 7, 6, 15, 14, 2, 11],\n",
       "  [7, 6, 1, 10, 13, 8, 12, 3, 2, 15, 14, 11, 9, 5, 4],\n",
       "  [2, 14, 11, 1, 5, 15, 7, 8, 6, 9, 3, 13, 12, 10, 4],\n",
       "  [6, 13, 2, 8, 4, 14, 11, 3, 12, 9, 5, 7, 1, 10, 15],\n",
       "  [10, 8, 1, 5, 9, 15, 3, 4, 12, 7, 14, 13, 11, 2, 6],\n",
       "  [5, 9, 7, 2, 15, 11, 1, 12, 10, 3, 6, 14, 4, 13, 8],\n",
       "  [14, 3, 10, 15, 7, 2, 5, 13, 12, 8, 11, 1, 9, 4, 6],\n",
       "  [10, 3, 5, 4, 2, 11, 12, 13, 14, 15, 1, 8, 9, 7, 6],\n",
       "  [15, 3, 9, 5, 13, 4, 12, 1, 10, 2, 7, 8, 11, 14, 6],\n",
       "  [8, 15, 9, 3, 2, 1, 7, 6, 12, 14, 10, 5, 13, 4, 11],\n",
       "  [7, 3, 15, 12, 8, 6, 1, 2, 11, 5, 9, 10, 14, 13, 4],\n",
       "  [14, 2, 11, 10, 8, 3, 15, 6, 4, 12, 13, 1, 5, 7, 9],\n",
       "  [14, 12, 2, 9, 5, 8, 15, 3, 1, 6, 11, 10, 4, 13, 7]])"
      ]
     },
     "execution_count": 370,
     "metadata": {},
     "output_type": "execute_result"
    }
   ],
   "source": [
    "a = LNS(machine_order_constr, processing_time, machines_required, n, m, 0.1)\n",
    "len(a), a"
   ]
  },
  {
   "cell_type": "code",
   "execution_count": 382,
   "metadata": {},
   "outputs": [
    {
     "data": {
      "text/plain": [
       "[[1, 2, 3, 4, 5, 6, 7, 8, 9, 10, 11, 12, 13, 14, 15],\n",
       " [1, 2, 3, 4, 5, 6, 7, 8, 9, 10, 11, 12, 13, 14, 15],\n",
       " [1, 2, 3, 4, 5, 6, 7, 8, 9, 10, 11, 12, 13, 14, 15],\n",
       " [1, 2, 3, 4, 5, 6, 7, 8, 9, 10, 11, 12, 13, 14, 15],\n",
       " [1, 2, 3, 4, 5, 6, 7, 8, 9, 10, 11, 12, 13, 14, 15],\n",
       " [1, 2, 3, 4, 5, 6, 7, 8, 9, 10, 11, 12, 13, 14, 15],\n",
       " [1, 2, 3, 4, 5, 6, 7, 8, 9, 10, 11, 12, 13, 14, 15],\n",
       " [1, 2, 3, 4, 5, 6, 7, 8, 9, 10, 11, 12, 13, 14, 15],\n",
       " [1, 2, 3, 4, 5, 6, 7, 8, 9, 10, 11, 12, 13, 14, 15],\n",
       " [1, 2, 3, 4, 5, 6, 7, 8, 9, 10, 11, 12, 13, 14, 15],\n",
       " [1, 2, 3, 4, 5, 6, 7, 8, 9, 10, 11, 12, 13, 14, 15],\n",
       " [1, 2, 3, 4, 5, 6, 7, 8, 9, 10, 11, 12, 13, 14, 15],\n",
       " [1, 2, 3, 4, 5, 6, 7, 8, 9, 10, 11, 12, 13, 14, 15],\n",
       " [1, 2, 3, 4, 5, 6, 7, 8, 9, 10, 11, 12, 13, 14, 15],\n",
       " [1, 2, 3, 4, 5, 6, 7, 8, 9, 10, 11, 12, 13, 14, 15]]"
      ]
     },
     "execution_count": 382,
     "metadata": {},
     "output_type": "execute_result"
    }
   ],
   "source": [
    "a = [sorted(x) for x in machine_order_constr]\n",
    "a"
   ]
  },
  {
   "cell_type": "code",
   "execution_count": null,
   "metadata": {},
   "outputs": [],
   "source": []
  }
 ],
 "metadata": {
  "kernelspec": {
   "display_name": ".venv",
   "language": "python",
   "name": "python3"
  },
  "language_info": {
   "codemirror_mode": {
    "name": "ipython",
    "version": 3
   },
   "file_extension": ".py",
   "mimetype": "text/x-python",
   "name": "python",
   "nbconvert_exporter": "python",
   "pygments_lexer": "ipython3",
   "version": "3.10.12"
  },
  "orig_nbformat": 4
 },
 "nbformat": 4,
 "nbformat_minor": 2
}
