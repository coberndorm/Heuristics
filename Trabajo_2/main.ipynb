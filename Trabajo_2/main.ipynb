{
 "cells": [
  {
   "cell_type": "code",
   "execution_count": null,
   "metadata": {},
   "outputs": [],
   "source": [
    "%pip install -r requirements.txt"
   ]
  },
  {
   "cell_type": "code",
   "execution_count": 1,
   "metadata": {},
   "outputs": [],
   "source": [
    "import os\n",
    "import numpy as np\n",
    "import time\n",
    "import constructivo as constr\n",
    "from auxiliar_functions import *\n",
    "from local_search import *\n",
    "\n",
    "#utilizar xlwt para escribir en excel\n"
   ]
  },
  {
   "cell_type": "code",
   "execution_count": 2,
   "metadata": {},
   "outputs": [],
   "source": [
    "directory_path = '../JSSP_Instances'\n",
    "directory_files = os.listdir(directory_path)\n",
    "directory_files.sort()"
   ]
  },
  {
   "cell_type": "code",
   "execution_count": 3,
   "metadata": {},
   "outputs": [],
   "source": [
    "import xlrd, xlwt\n",
    "from xlutils.copy import copy as xl_copy\n",
    "from xlwt import Workbook\n",
    "\n",
    "\n",
    "def write_xlsx(machine_order, makespan, time, name_sheet, name_file):\n",
    "    # Create a new workbook\n",
    "    \n",
    "    try:\n",
    "        # open existing workbook\n",
    "        rb = xlrd.open_workbook(name_file, formatting_info=True)\n",
    "        # make a copy of it\n",
    "        workbook = xl_copy(rb)\n",
    "    except:\n",
    "        workbook = Workbook()\n",
    "    sheet = workbook.add_sheet(name_sheet)\n",
    "    \n",
    "    # Iterate over the matrix and write its values to the sheet\n",
    "    for row_index, row in enumerate(machine_order, start=1):\n",
    "        for col_index, value in enumerate(row, start=1):\n",
    "            sheet.write(row_index - 1, col_index - 1, value)  # Note: row_index and col_index should start from 0\n",
    "    \n",
    "    # Write makespan and time to the next row\n",
    "    row_index = len(machine_order)\n",
    "    sheet.write(row_index, 0, int(makespan))\n",
    "    sheet.write(row_index, 1, time)\n",
    "\n",
    "    # Save the workbook to the specified file\n",
    "    workbook.save(name_file)"
   ]
  },
  {
   "cell_type": "code",
   "execution_count": 4,
   "metadata": {},
   "outputs": [],
   "source": [
    "with open('cotas.txt', 'r') as f:\n",
    "    cotas = f.readlines()\n",
    "    cotas = [int(line.strip()) for line in cotas]"
   ]
  },
  {
   "cell_type": "code",
   "execution_count": 8,
   "metadata": {},
   "outputs": [
    {
     "name": "stdout",
     "output_type": "stream",
     "text": [
      "JSSP1.txt -> Constr:  1462  Cota:  991\n",
      "first swap:  1386 | first insert forward:  1397 | first insert backward:  1386\n",
      "best swap:  1386 | best insert forward:  1400 | best insert backward:  1386\n",
      " RVNS ->  1417\n"
     ]
    }
   ],
   "source": [
    "#Reading all the information\n",
    "for file_num in range(1, len(directory_files)+1):\n",
    "  file = \"JSSP\" + str(file_num) + \".txt\"\n",
    "  with open(directory_path + \"/\" + file, \"r\" ) as f:\n",
    "  #with open(\"../AAA_test\", \"r\" ) as f:\n",
    "    size = f.readline().split()\n",
    "    # n = trabajos, m = maquinas\n",
    "    n, m = int(size[0]), int(size[1])\n",
    "    data = list(f)\n",
    "    for i,line in enumerate(data):\n",
    "      data[i] = [int(x) for x in line.strip().split() if x is not None and x != '']\n",
    "\n",
    "    processing_time = data[0:n]\n",
    "    machines_required = data[n:2*n]\n",
    "  \n",
    "  # Cota inferior\n",
    "  machines = {i:[[ j+1, processing_time[j][z], z, False] for z in range(m) for j in range(n)  if machines_required[j][z] == i]for i in range(1,m+1)}\n",
    "  cota_inferior = cotas[file_num-1]\n",
    "\n",
    "  # Create job objects\n",
    "  jobs_constr = [constr.Job(np.array(machines_required)[i, :], np.array(processing_time)[i, :], i + 1) for i in range(n)]\n",
    "\n",
    "  #Sorted array in which the first value is always the first machine that \n",
    "  machines_constr = [constr.Machine(i+1) for i in range(m)]\n",
    "  # Record the start time\n",
    "  constr_start_time = time.time(); ans_constr, machine_order_constr = constr.constructivo(jobs_constr, machines_constr); constr_end_time = time.time()\n",
    "\n",
    "  rvns_sol = reduced_neighborhood_search(machine_order_constr, processing_time, machines_required, n, m, times_to_test=1000)\n",
    "\n",
    "  first_swap_start_time = time.time(); first_swap_sol = first_improvement(machine_order_constr, processing_time, machines_required, n, m); first_swap_end_time = time.time()\n",
    "  best_swap_start_time = time.time(); best_swap_sol = best_improvement(machine_order_constr, processing_time, machines_required, n, m); best_swap_end_time = time.time()\n",
    "\n",
    "  first_insert_for_start_time = time.time(); first_insert_for_sol = first_improvement(machine_order_constr, processing_time, machines_required, n, m, insert_forward); first_insert_for_end_time = time.time()\n",
    "  best_insert_for_start_time = time.time(); best_insert_for_sol = best_improvement(machine_order_constr, processing_time, machines_required, n, m, insert_forward); best_insert_for_end_time = time.time()\n",
    "\n",
    "  first_insert_back_start_time = time.time(); first_insert_back_sol = first_improvement(machine_order_constr, processing_time, machines_required, n, m, insert_backward); first_insert_back_end_time = time.time()\n",
    "  best_insert_back_start_time = time.time(); best_insert_back_sol = best_improvement(machine_order_constr, processing_time, machines_required, n, m, insert_backward); best_insert_back_end_time = time.time()\n",
    "\n",
    "  \n",
    "\n",
    "  print(file, \"-> Constr: \", ans_constr, \" Cota: \", cota_inferior)\n",
    "  print( \"first swap: \", makespan(first_swap_sol, processing_time, machines_required, n, m), \"|\",\n",
    "         \"first insert forward: \", makespan(first_insert_for_sol, processing_time, machines_required, n, m), \"|\" ,\n",
    "         \"first insert backward: \", makespan(first_insert_back_sol, processing_time, machines_required, n, m))\n",
    "  print( \"best swap: \", makespan(best_swap_sol, processing_time, machines_required, n, m), \"|\",\n",
    "         \"best insert forward: \", makespan(best_insert_for_sol, processing_time, machines_required, n, m), \"|\" ,\n",
    "         \"best insert backward: \", makespan(best_insert_back_sol, processing_time, machines_required, n, m))\n",
    "  print(\" RVNS -> \" , makespan(rvns_sol, processing_time, machines_required, n, m))\n",
    "  \n",
    "  #write_xlsx(first_swap_sol, makespan(first_swap_sol, processing_time, machines_required, n, m), first_swap_end_time - first_swap_start_time, file , \"JSSP_coberndorm_first_improvement_swap.xlsx\")\n",
    "  #write_xlsx(first_insert_for_sol, makespan(first_insert_for_sol, processing_time, machines_required, n, m), first_insert_for_end_time - first_insert_for_start_time, file, \"JSSP_coberndorm_first_improvement_insert_forward.xlsx\")\n",
    "  #write_xlsx(first_insert_back_sol, makespan(first_insert_back_sol, processing_time, machines_required, n, m), first_insert_back_end_time - first_insert_back_start_time, file, \"JSSP_coberndorm_first_improvement_insert_backward.xlsx\")\n",
    "\n",
    "  #write_xlsx(best_swap_sol, makespan(best_swap_sol, processing_time, machines_required, n, m), best_swap_end_time - best_swap_start_time, file , \"JSSP_coberndorm_best_improvement_swap.xlsx\")\n",
    "  #write_xlsx(best_insert_for_sol, makespan(best_insert_for_sol, processing_time, machines_required, n, m), best_insert_for_end_time - best_insert_for_start_time, file, \"JSSP_coberndorm_best_improvement_insert_forward.xlsx\")\n",
    "  #write_xlsx(best_insert_back_sol, makespan(best_insert_back_sol, processing_time, machines_required, n, m), best_insert_back_end_time - best_insert_back_start_time, file, \"JSSP_coberndorm_best_improvement_insert_backward.xlsx\")\n",
    "\n",
    "  break\n"
   ]
  },
  {
   "cell_type": "code",
   "execution_count": 39,
   "metadata": {},
   "outputs": [],
   "source": [
    "def variable_neighborhood_search(constr, processing_time, machines_required, n, m, methods = [interchange, insert_forward, insert_backward]):\n",
    "    sol = constr; sol_time = makespan(sol, processing_time, machines_required, n, m)\n",
    "    stop = False\n",
    "    sol_best = sol; sol_time_best = sol_time\n",
    "\n",
    "    while stop == False:\n",
    "        stop = True\n",
    "        for mach in range(m):\n",
    "            for i in range(n):\n",
    "                for j in range(i+1, n):\n",
    "\n",
    "                    counter = 0\n",
    "                    while counter < len(methods):\n",
    "                        \n",
    "                        method = methods[counter]\n",
    "                        new_sol = method(sol, i, j, mach)\n",
    "\n",
    "                        if feasible(new_sol, machines_required, n, m) == False:\n",
    "                            continue\n",
    "                        \n",
    "                        new_sol_time = makespan(new_sol, processing_time, machines_required, n, m)\n",
    "\n",
    "                        if new_sol_time < sol_time_best:\n",
    "                            print(new_sol_time)\n",
    "                            counter = 0\n",
    "                            sol_best = new_sol; sol_time_best = new_sol_time\n",
    "                            stop = False\n",
    "                        \n",
    "                        else:\n",
    "                            print(\"Entro\")\n",
    "                            counter += 1\n",
    "                            print(counter)\n",
    "                    print(\"Entro 1\")\n",
    "            print(\"Entro2\")\n",
    "        if stop == False:\n",
    "            print (\"working\")\n",
    "            sol = sol_best; sol_time = sol_time_best\n",
    "                    \n",
    "    return sol"
   ]
  },
  {
   "cell_type": "code",
   "execution_count": 41,
   "metadata": {},
   "outputs": [
    {
     "name": "stdout",
     "output_type": "stream",
     "text": [
      "Entro\n",
      "1\n",
      "Entro\n",
      "2\n",
      "Entro\n",
      "3\n",
      "Entro 1\n",
      "Entro\n",
      "1\n",
      "Entro\n",
      "2\n",
      "Entro\n",
      "3\n",
      "Entro 1\n"
     ]
    },
    {
     "ename": "KeyboardInterrupt",
     "evalue": "",
     "output_type": "error",
     "traceback": [
      "\u001b[0;31m---------------------------------------------------------------------------\u001b[0m",
      "\u001b[0;31mKeyboardInterrupt\u001b[0m                         Traceback (most recent call last)",
      "\u001b[1;32m/home/coberndorm/Documents/Semestre_IX/Heuristics/Trabajo_2/main.ipynb Cell 8\u001b[0m line \u001b[0;36m1\n\u001b[0;32m----> <a href='vscode-notebook-cell:/home/coberndorm/Documents/Semestre_IX/Heuristics/Trabajo_2/main.ipynb#X11sZmlsZQ%3D%3D?line=0'>1</a>\u001b[0m variable_neighborhood_search(machine_order_constr, processing_time, machines_required, n, m)\n",
      "\u001b[1;32m/home/coberndorm/Documents/Semestre_IX/Heuristics/Trabajo_2/main.ipynb Cell 8\u001b[0m line \u001b[0;36m1\n\u001b[1;32m     <a href='vscode-notebook-cell:/home/coberndorm/Documents/Semestre_IX/Heuristics/Trabajo_2/main.ipynb#X11sZmlsZQ%3D%3D?line=14'>15</a>\u001b[0m method \u001b[39m=\u001b[39m methods[counter]\n\u001b[1;32m     <a href='vscode-notebook-cell:/home/coberndorm/Documents/Semestre_IX/Heuristics/Trabajo_2/main.ipynb#X11sZmlsZQ%3D%3D?line=15'>16</a>\u001b[0m new_sol \u001b[39m=\u001b[39m method(sol, i, j, mach)\n\u001b[0;32m---> <a href='vscode-notebook-cell:/home/coberndorm/Documents/Semestre_IX/Heuristics/Trabajo_2/main.ipynb#X11sZmlsZQ%3D%3D?line=17'>18</a>\u001b[0m \u001b[39mif\u001b[39;00m feasible(new_sol, machines_required, n, m) \u001b[39m==\u001b[39m \u001b[39mFalse\u001b[39;00m:\n\u001b[1;32m     <a href='vscode-notebook-cell:/home/coberndorm/Documents/Semestre_IX/Heuristics/Trabajo_2/main.ipynb#X11sZmlsZQ%3D%3D?line=18'>19</a>\u001b[0m     \u001b[39mcontinue\u001b[39;00m\n\u001b[1;32m     <a href='vscode-notebook-cell:/home/coberndorm/Documents/Semestre_IX/Heuristics/Trabajo_2/main.ipynb#X11sZmlsZQ%3D%3D?line=20'>21</a>\u001b[0m new_sol_time \u001b[39m=\u001b[39m makespan(new_sol, processing_time, machines_required, n, m)\n",
      "File \u001b[0;32m~/Documents/Semestre_IX/Heuristics/Trabajo_2/auxiliar_functions.py:32\u001b[0m, in \u001b[0;36mfeasible\u001b[0;34m(sol, order, jobs, machines)\u001b[0m\n\u001b[1;32m     29\u001b[0m machine \u001b[39m=\u001b[39m order[j][next_machine[j]]\n\u001b[1;32m     31\u001b[0m \u001b[39m# If the machine can process the next job, update counters\u001b[39;00m\n\u001b[0;32m---> 32\u001b[0m \u001b[39mif\u001b[39;00m machine \u001b[39m==\u001b[39m m\u001b[39m+\u001b[39m\u001b[39m1\u001b[39m:\n\u001b[1;32m     33\u001b[0m     next_job[m] \u001b[39m+\u001b[39m\u001b[39m=\u001b[39m \u001b[39m1\u001b[39m\n\u001b[1;32m     34\u001b[0m     next_machine[j] \u001b[39m+\u001b[39m\u001b[39m=\u001b[39m \u001b[39m1\u001b[39m\n",
      "\u001b[0;31mKeyboardInterrupt\u001b[0m: "
     ]
    }
   ],
   "source": [
    "variable_neighborhood_search(machine_order_constr, processing_time, machines_required, n, m)"
   ]
  },
  {
   "cell_type": "code",
   "execution_count": null,
   "metadata": {},
   "outputs": [],
   "source": []
  }
 ],
 "metadata": {
  "kernelspec": {
   "display_name": ".venv",
   "language": "python",
   "name": "python3"
  },
  "language_info": {
   "codemirror_mode": {
    "name": "ipython",
    "version": 3
   },
   "file_extension": ".py",
   "mimetype": "text/x-python",
   "name": "python",
   "nbconvert_exporter": "python",
   "pygments_lexer": "ipython3",
   "version": "3.10.12"
  },
  "orig_nbformat": 4
 },
 "nbformat": 4,
 "nbformat_minor": 2
}
