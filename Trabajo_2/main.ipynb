{
 "cells": [
  {
   "cell_type": "code",
   "execution_count": null,
   "metadata": {},
   "outputs": [],
   "source": [
    "%pip install -r requirements.txt"
   ]
  },
  {
   "cell_type": "code",
   "execution_count": 2,
   "metadata": {},
   "outputs": [],
   "source": [
    "import os\n",
    "import numpy as np\n",
    "import time\n",
    "import constructivo as constr\n",
    "from auxiliar_functions import *\n",
    "from local_search import *\n",
    "\n",
    "#utilizar xlwt para escribir en excel\n"
   ]
  },
  {
   "cell_type": "code",
   "execution_count": 3,
   "metadata": {},
   "outputs": [],
   "source": [
    "directory_path = 'JSSP_Instances'\n",
    "directory_files = os.listdir(directory_path)\n",
    "directory_files.sort()"
   ]
  },
  {
   "cell_type": "code",
   "execution_count": 4,
   "metadata": {},
   "outputs": [],
   "source": [
    "import xlrd, xlwt\n",
    "from xlutils.copy import copy as xl_copy\n",
    "from xlwt import Workbook\n",
    "\n",
    "\n",
    "def write_xlsx(machine_order, makespan, time, name_sheet, name_file):\n",
    "    # Create a new workbook\n",
    "    \n",
    "    try:\n",
    "        # open existing workbook\n",
    "        rb = xlrd.open_workbook(name_file, formatting_info=True)\n",
    "        # make a copy of it\n",
    "        workbook = xl_copy(rb)\n",
    "    except:\n",
    "        workbook = Workbook()\n",
    "    sheet = workbook.add_sheet(name_sheet)\n",
    "    \n",
    "    # Iterate over the matrix and write its values to the sheet\n",
    "    for row_index, row in enumerate(machine_order, start=1):\n",
    "        for col_index, value in enumerate(row, start=1):\n",
    "            sheet.write(row_index - 1, col_index - 1, value)  # Note: row_index and col_index should start from 0\n",
    "    \n",
    "    # Write makespan and time to the next row\n",
    "    row_index = len(machine_order)\n",
    "    sheet.write(row_index, 0, int(makespan))\n",
    "    sheet.write(row_index, 1, time)\n",
    "\n",
    "    # Save the workbook to the specified file\n",
    "    workbook.save(name_file)"
   ]
  },
  {
   "cell_type": "code",
   "execution_count": 5,
   "metadata": {},
   "outputs": [],
   "source": [
    "with open('cotas.txt', 'r') as f:\n",
    "    cotas = f.readlines()\n",
    "    cotas = [int(line.strip()) for line in cotas]"
   ]
  },
  {
   "cell_type": "code",
   "execution_count": 8,
   "metadata": {},
   "outputs": [
    {
     "name": "stdout",
     "output_type": "stream",
     "text": [
      "JSSP1.txt -> Constr:  1462  Cota:  991\n",
      "first swap:  1386 | first insert forward:  1397 | first insert backward:  1386\n",
      "best swap:  1386 | best insert forward:  1400 | best insert backward:  1386\n",
      " RVNS ->  1417\n"
     ]
    }
   ],
   "source": [
    "#Reading all the information\n",
    "for file_num in range(1, len(directory_files)+1):\n",
    "  file = \"JSSP\" + str(file_num) + \".txt\"\n",
    "  with open(directory_path + \"/\" + file, \"r\" ) as f:\n",
    "  #with open(\"../AAA_test\", \"r\" ) as f:\n",
    "    size = f.readline().split()\n",
    "    # n = trabajos, m = maquinas\n",
    "    n, m = int(size[0]), int(size[1])\n",
    "    data = list(f)\n",
    "    for i,line in enumerate(data):\n",
    "      data[i] = [int(x) for x in line.strip().split() if x is not None and x != '']\n",
    "\n",
    "    processing_time = data[0:n]\n",
    "    machines_required = data[n:2*n]\n",
    "  \n",
    "  # Cota inferior\n",
    "  machines = {i:[[ j+1, processing_time[j][z], z, False] for z in range(m) for j in range(n)  if machines_required[j][z] == i]for i in range(1,m+1)}\n",
    "  cota_inferior = cotas[file_num-1]\n",
    "\n",
    "  # Create job objects\n",
    "  jobs_constr = [constr.Job(np.array(machines_required)[i, :], np.array(processing_time)[i, :], i + 1) for i in range(n)]\n",
    "\n",
    "  #Sorted array in which the first value is always the first machine that \n",
    "  machines_constr = [constr.Machine(i+1) for i in range(m)]\n",
    "  # Record the start time\n",
    "  constr_start_time = time.time(); ans_constr, machine_order_constr = constr.constructivo(jobs_constr, machines_constr); constr_end_time = time.time()\n",
    "\n",
    "  rvns_sol = reduced_neighborhood_search(machine_order_constr, processing_time, machines_required, n, m, times_to_test=1000)\n",
    "\n",
    "  first_swap_start_time = time.time(); first_swap_sol = first_improvement(machine_order_constr, processing_time, machines_required, n, m); first_swap_end_time = time.time()\n",
    "  best_swap_start_time = time.time(); best_swap_sol = best_improvement(machine_order_constr, processing_time, machines_required, n, m); best_swap_end_time = time.time()\n",
    "\n",
    "  first_insert_for_start_time = time.time(); first_insert_for_sol = first_improvement(machine_order_constr, processing_time, machines_required, n, m, insert_forward); first_insert_for_end_time = time.time()\n",
    "  best_insert_for_start_time = time.time(); best_insert_for_sol = best_improvement(machine_order_constr, processing_time, machines_required, n, m, insert_forward); best_insert_for_end_time = time.time()\n",
    "\n",
    "  first_insert_back_start_time = time.time(); first_insert_back_sol = first_improvement(machine_order_constr, processing_time, machines_required, n, m, insert_backward); first_insert_back_end_time = time.time()\n",
    "  best_insert_back_start_time = time.time(); best_insert_back_sol = best_improvement(machine_order_constr, processing_time, machines_required, n, m, insert_backward); best_insert_back_end_time = time.time()\n",
    "\n",
    "  \n",
    "\n",
    "  print(file, \"-> Constr: \", ans_constr, \" Cota: \", cota_inferior)\n",
    "  print( \"first swap: \", makespan(first_swap_sol, processing_time, machines_required, n, m), \"|\",\n",
    "         \"first insert forward: \", makespan(first_insert_for_sol, processing_time, machines_required, n, m), \"|\" ,\n",
    "         \"first insert backward: \", makespan(first_insert_back_sol, processing_time, machines_required, n, m))\n",
    "  print( \"best swap: \", makespan(best_swap_sol, processing_time, machines_required, n, m), \"|\",\n",
    "         \"best insert forward: \", makespan(best_insert_for_sol, processing_time, machines_required, n, m), \"|\" ,\n",
    "         \"best insert backward: \", makespan(best_insert_back_sol, processing_time, machines_required, n, m))\n",
    "  print(\" RVNS -> \" , makespan(rvns_sol, processing_time, machines_required, n, m))\n",
    "  \n",
    "  write_xlsx(first_swap_sol, makespan(first_swap_sol, processing_time, machines_required, n, m), first_swap_end_time - first_swap_start_time, file , \"JSSP_coberndorm_first_improvement_swap.xlsx\")\n",
    "  write_xlsx(first_insert_for_sol, makespan(first_insert_for_sol, processing_time, machines_required, n, m), first_insert_for_end_time - first_insert_for_start_time, file, \"JSSP_coberndorm_first_improvement_insert_forward.xlsx\")\n",
    "  write_xlsx(first_insert_back_sol, makespan(first_insert_back_sol, processing_time, machines_required, n, m), first_insert_back_end_time - first_insert_back_start_time, file, \"JSSP_coberndorm_first_improvement_insert_backward.xlsx\")\n",
    "\n",
    "  write_xlsx(best_swap_sol, makespan(best_swap_sol, processing_time, machines_required, n, m), best_swap_end_time - best_swap_start_time, file , \"JSSP_coberndorm_best_improvement_swap.xlsx\")\n",
    "  write_xlsx(best_insert_for_sol, makespan(best_insert_for_sol, processing_time, machines_required, n, m), best_insert_for_end_time - best_insert_for_start_time, file, \"JSSP_coberndorm_best_improvement_insert_forward.xlsx\")\n",
    "  write_xlsx(best_insert_back_sol, makespan(best_insert_back_sol, processing_time, machines_required, n, m), best_insert_back_end_time - best_insert_back_start_time, file, \"JSSP_coberndorm_best_improvement_insert_backward.xlsx\")\n"
   ]
  },
  {
   "cell_type": "code",
   "execution_count": 6,
   "metadata": {},
   "outputs": [],
   "source": [
    "with open('makespan_constr.txt', 'r') as f:\n",
    "    makespan_constr = f.readlines()\n",
    "    makespan_constr = [int(line.strip()) for line in makespan_constr]"
   ]
  },
  {
   "cell_type": "code",
   "execution_count": 17,
   "metadata": {},
   "outputs": [
    {
     "name": "stdout",
     "output_type": "stream",
     "text": [
      "Current method:  JSSP_coberndorm_best_improvement_insert_backward.xlsx\n",
      "average distance to limit:  0.3155\n",
      "average improvement:  0.0329\n",
      "Current method:  JSSP_coberndorm_best_improvement_insert_forward.xlsx\n",
      "average distance to limit:  0.3229\n",
      "average improvement:  0.0281\n",
      "Current method:  JSSP_coberndorm_best_improvement_swap.xlsx\n",
      "average distance to limit:  0.3163\n",
      "average improvement:  0.0323\n",
      "Current method:  JSSP_coberndorm_first_improvement_insert_backward.xlsx\n",
      "average distance to limit:  0.309\n",
      "average improvement:  0.0376\n",
      "Current method:  JSSP_coberndorm_first_improvement_insert_forward.xlsx\n",
      "average distance to limit:  0.3231\n",
      "average improvement:  0.0278\n",
      "Current method:  JSSP_coberndorm_first_improvement_swap.xlsx\n",
      "average distance to limit:  0.3137\n",
      "average improvement:  0.0347\n"
     ]
    }
   ],
   "source": [
    "import os\n",
    "import xlrd\n",
    "\n",
    "# Get a list of Excel files in the current directory\n",
    "directory_files = os.listdir()\n",
    "directory_files.sort()\n",
    "directory_files = [file for file in directory_files if file.endswith('.xlsx')]\n",
    "\n",
    "for file in directory_files:\n",
    "    # Specify the path to your Excel file\n",
    "    excel_file_path = file\n",
    "    print(\"Current method: \", excel_file_path)\n",
    "    average_distance_to_limit = []\n",
    "    average_improvement = []\n",
    "\n",
    "    for i in range(1,16+1):\n",
    "        sheet_name = f\"JSSP{i}.txt\"  # Change this to the desired sheet name\n",
    "        column_letter = \"B\"      # Change this to the desired column letter\n",
    "\n",
    "        # Open the Excel workbook\n",
    "        workbook = xlrd.open_workbook(excel_file_path, formatting_info=True)\n",
    "\n",
    "        # Select the specific sheet by name\n",
    "        sheet = workbook.sheet_by_name(sheet_name)\n",
    "\n",
    "        # Find the last row with data in the specified column (column B)\n",
    "        max_row = sheet.nrows -1\n",
    "\n",
    "        # Read the value from the last cell in column B\n",
    "        makespan_val = sheet.cell_value(max_row, 0)\n",
    "        # Read the value from the last cell in column B\n",
    "        time_val = sheet.cell_value(max_row, 1)\n",
    "\n",
    "        cota_file = cotas[i-1]\n",
    "\n",
    "        efficacy = (makespan_val - cota_file)/cota_file\n",
    "        average_distance_to_limit.append(efficacy)\n",
    "        average_improvement.append((makespan_constr[i-1] - makespan_val)/makespan_constr[i-1])\n",
    "\n",
    "    print(\"average distance to limit: \", round(sum(average_distance_to_limit)/len(average_distance_to_limit), 4))\n",
    "    print(\"average improvement: \", round(sum(average_improvement)/len(average_improvement),4))\n",
    "    "
   ]
  },
  {
   "cell_type": "code",
   "execution_count": null,
   "metadata": {},
   "outputs": [],
   "source": []
  }
 ],
 "metadata": {
  "kernelspec": {
   "display_name": ".venv",
   "language": "python",
   "name": "python3"
  },
  "language_info": {
   "codemirror_mode": {
    "name": "ipython",
    "version": 3
   },
   "file_extension": ".py",
   "mimetype": "text/x-python",
   "name": "python",
   "nbconvert_exporter": "python",
   "pygments_lexer": "ipython3",
   "version": "3.10.12"
  },
  "orig_nbformat": 4
 },
 "nbformat": 4,
 "nbformat_minor": 2
}
