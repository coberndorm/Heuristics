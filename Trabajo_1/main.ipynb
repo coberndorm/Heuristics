{
 "cells": [
  {
   "cell_type": "code",
   "execution_count": null,
   "metadata": {},
   "outputs": [],
   "source": [
    "%pip install -r requirements.txt"
   ]
  },
  {
   "cell_type": "code",
   "execution_count": 1,
   "metadata": {},
   "outputs": [],
   "source": [
    "import os\n",
    "import numpy as np\n",
    "import time\n",
    "import constructivo as constr\n",
    "import ruido as ruido\n",
    "import rand_choice as aleat"
   ]
  },
  {
   "cell_type": "code",
   "execution_count": 2,
   "metadata": {},
   "outputs": [],
   "source": [
    "directory_path = '../JSSP_Instances'\n",
    "directory_files = os.listdir(directory_path)\n",
    "directory_files.sort()"
   ]
  },
  {
   "cell_type": "code",
   "execution_count": 3,
   "metadata": {},
   "outputs": [],
   "source": [
    "import xlrd, xlwt\n",
    "from xlutils.copy import copy as xl_copy\n",
    "from xlwt import Workbook\n",
    "\n",
    "\n",
    "def write_xlsx(machine_order, makespan, time, name_sheet, name_file):\n",
    "    # Create a new workbook\n",
    "    \n",
    "    try:\n",
    "        # open existing workbook\n",
    "        rb = xlrd.open_workbook(name_file, formatting_info=True)\n",
    "        # make a copy of it\n",
    "        workbook = xl_copy(rb)\n",
    "    except:\n",
    "        workbook = Workbook()\n",
    "    sheet = workbook.add_sheet(name_sheet)\n",
    "    \n",
    "    # Iterate over the matrix and write its values to the sheet\n",
    "    for row_index, row in enumerate(machine_order, start=1):\n",
    "        for col_index, value in enumerate(row, start=1):\n",
    "            sheet.write(row_index - 1, col_index - 1, value)  # Note: row_index and col_index should start from 0\n",
    "    \n",
    "    # Write makespan and time to the next row\n",
    "    row_index = len(machine_order)\n",
    "    sheet.write(row_index, 0, int(makespan))\n",
    "    sheet.write(row_index, 1, time)\n",
    "\n",
    "    # Save the workbook to the specified file\n",
    "    workbook.save(name_file)"
   ]
  },
  {
   "cell_type": "code",
   "execution_count": 4,
   "metadata": {},
   "outputs": [
    {
     "name": "stdout",
     "output_type": "stream",
     "text": [
      "JSSP1.txt :  1462      1379      1401       977\n",
      "JSSP10.txt :  2710      2531      2467       1761\n",
      "JSSP11.txt :  3856      3375      3231       2760\n",
      "JSSP12.txt :  3266      3114      3220       2756\n",
      "JSSP13.txt :  3606      3316      3502       2868\n",
      "JSSP14.txt :  3639      3418      3500       2848\n",
      "JSSP15.txt :  6232      5945      6098       5464\n",
      "JSSP16.txt :  5973      5744      5720       5181\n",
      "JSSP2.txt :  1446      1381      1409       919\n",
      "JSSP3.txt :  1865      1736      1664       1139\n",
      "JSSP4.txt :  1667      1566      1640       1251\n",
      "JSSP5.txt :  2175      1970      1983       1182\n",
      "JSSP6.txt :  1965      1848      1936       1240\n",
      "JSSP7.txt :  2335      2139      2124       1764\n",
      "JSSP8.txt :  2432      2216      2270       1774\n",
      "JSSP9.txt :  2499      2367      2516       1830\n"
     ]
    }
   ],
   "source": [
    "#Reading all the information\n",
    "for file_num in range(1, len(directory_files)+1):\n",
    "  file = \"JSSP\" + str(file_num) + \".txt\"\n",
    "  with open(directory_path + \"/\" + file, \"r\" ) as f:\n",
    "  #with open(\"../AAA_test\", \"r\" ) as f:\n",
    "    size = f.readline().split()\n",
    "    # n = trabajos, m = maquinas\n",
    "    n, m = int(size[0]), int(size[1])\n",
    "    data = list(f)\n",
    "    for i,line in enumerate(data):\n",
    "      data[i] = [int(x) for x in line.strip().split() if x is not None and x != '']\n",
    "\n",
    "    processing_time = data[0:n]\n",
    "    machines_required = data[n:2*n]\n",
    "  \n",
    "  # Cota inferior\n",
    "  machines = {i:[[ j+1, processing_time[j][z], z, False] for z in range(m) for j in range(n)  if machines_required[j][z] == i]for i in range(1,m+1)}\n",
    "  cota_inferior = max([sum([x[1] for x in machines[i]]) for i in machines])\n",
    "\n",
    "  # Create job objects\n",
    "  jobs_constr = [constr.Job(np.array(machines_required)[i, :], np.array(processing_time)[i, :], i + 1) for i in range(n)]\n",
    "  jobs_ruido = [ruido.Job(np.array(machines_required)[i, :], np.array(processing_time)[i, :], i + 1, 0.1) for i in range(n)]\n",
    "  jobs_aleat = [aleat.Job(np.array(machines_required)[i, :], np.array(processing_time)[i, :], i + 1) for i in range(n)]\n",
    "\n",
    "  #Sorted array in which the first value is always the first machine that \n",
    "  machines_constr = [constr.Machine(i+1) for i in range(m)]\n",
    "  machines_ruido = [ruido.Machine(i+1) for i in range(m)]\n",
    "  machines_aleat = [aleat.Machine(i+1) for i in range(m)]\n",
    "\n",
    "  # Record the start time\n",
    "  constr_start_time = time.time(); ans_constr, machine_order_constr = constr.constructivo(jobs_constr, machines_constr); constr_end_time = time.time()\n",
    "  ruido_start_time = time.time(); ans_ruido, machine_order_ruido, _ = ruido.aleatorio(jobs_ruido, machines_ruido, processing_time, machines_required); ruido_end_time = time.time()\n",
    "  aleat_start_time = time.time(); ans_aleat, machine_order_aleat = aleat.eleccion_aleatoria(jobs_aleat, machines_aleat); aleat_end_time = time.time()\n",
    "  \n",
    "  #Save the results in excel worksheets\n",
    "  write_xlsx(machine_order_constr, ans_constr, constr_end_time - constr_start_time, file, \"JSSP_coberndorm_Constructivo.xlsx\")\n",
    "  write_xlsx(machine_order_ruido, ans_ruido, ruido_end_time - ruido_start_time, file, \"JSSP_coberndorm_Ruido.xlsx\")\n",
    "  write_xlsx(machine_order_aleat, ans_aleat, aleat_end_time - aleat_start_time, file, \"JSSP_coberndorm_Aleatorio.xlsx\")\n",
    "\n",
    "  print(file, \": \", ans_constr, \"    \", ans_ruido, \"    \", ans_aleat, \"     \", cota_inferior)"
   ]
  },
  {
   "cell_type": "code",
   "execution_count": 5,
   "metadata": {},
   "outputs": [],
   "source": [
    "with open('cotas.txt', 'r') as f:\n",
    "    cotas = f.readlines()\n",
    "    cotas = [int(line.strip()) for line in cotas]   "
   ]
  },
  {
   "cell_type": "code",
   "execution_count": 6,
   "metadata": {},
   "outputs": [],
   "source": [
    "with open('makespan_constr.txt', 'r') as f:\n",
    "    makespan_constr = f.readlines()\n",
    "    makespan_constr = [int(line.strip()) for line in makespan_constr]"
   ]
  },
  {
   "cell_type": "code",
   "execution_count": 7,
   "metadata": {},
   "outputs": [
    {
     "name": "stdout",
     "output_type": "stream",
     "text": [
      "Current method:  JSSP_coberndorm_Aleatorio.xlsx\n",
      "average distance to limit:  0.2815\n",
      "average improvement:  0.0565\n",
      "Current method:  JSSP_coberndorm_Constructivo.xlsx\n",
      "average distance to limit:  0.3615\n",
      "average improvement:  0.0\n",
      "Current method:  JSSP_coberndorm_Ruido.xlsx\n",
      "average distance to limit:  0.2761\n",
      "average improvement:  0.0621\n"
     ]
    }
   ],
   "source": [
    "import os\n",
    "import xlrd\n",
    "\n",
    "# Get a list of Excel files in the current directory\n",
    "directory_files = os.listdir()\n",
    "directory_files.sort()\n",
    "directory_files = [file for file in directory_files if file.endswith('.xlsx')]\n",
    "\n",
    "for file in directory_files:\n",
    "    # Specify the path to your Excel file\n",
    "    excel_file_path = file\n",
    "    print(\"Current method: \", excel_file_path)\n",
    "    average_distance_to_limit = []\n",
    "    average_improvement = []\n",
    "\n",
    "    for i in range(1,16+1):\n",
    "        sheet_name = f\"JSSP{i}.txt\"  # Change this to the desired sheet name\n",
    "        column_letter = \"B\"      # Change this to the desired column letter\n",
    "\n",
    "        # Open the Excel workbook\n",
    "        workbook = openpyxl.load_workbook(file)\n",
    "\n",
    "        # Select the specific sheet by name\n",
    "        sheet = workbook[sheet_name]\n",
    "\n",
    "        # Find the last row with data in the specified column (column B)\n",
    "        max_row = sheet.max_row\n",
    "\n",
    "        # Read the value from the last cell in column B\n",
    "        makespan_val = sheet.cell(max_row, 1).value\n",
    "        # Read the value from the last cell in column B\n",
    "        time_val = sheet.cell(max_row, 2).value\n",
    "\n",
    "        cota_file = cotas[i-1]\n",
    "\n",
    "        efficacy = (makespan_val - cota_file)/cota_file\n",
    "        average_distance_to_limit.append(efficacy)\n",
    "        average_improvement.append((makespan_constr[i-1] - makespan_val)/makespan_constr[i-1])\n",
    "\n",
    "    print(\"average distance to limit: \", round(sum(average_distance_to_limit)/len(average_distance_to_limit), 4))\n",
    "    print(\"average improvement: \", round(sum(average_improvement)/len(average_improvement),4))\n",
    "    "
   ]
  }
 ],
 "metadata": {
  "kernelspec": {
   "display_name": ".venv",
   "language": "python",
   "name": "python3"
  },
  "language_info": {
   "codemirror_mode": {
    "name": "ipython",
    "version": 3
   },
   "file_extension": ".py",
   "mimetype": "text/x-python",
   "name": "python",
   "nbconvert_exporter": "python",
   "pygments_lexer": "ipython3",
   "version": "3.10.12"
  },
  "orig_nbformat": 4
 },
 "nbformat": 4,
 "nbformat_minor": 2
}
