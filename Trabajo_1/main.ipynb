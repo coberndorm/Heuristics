{
 "cells": [
  {
   "cell_type": "code",
   "execution_count": null,
   "metadata": {},
   "outputs": [],
   "source": [
    "%pip install -r requirements.txt"
   ]
  },
  {
   "cell_type": "code",
   "execution_count": 7,
   "metadata": {},
   "outputs": [],
   "source": [
    "import os\n",
    "import numpy as np\n",
    "import time\n",
    "import constructivo as constr\n",
    "import ruido as ruido\n",
    "import rand_choice as aleat"
   ]
  },
  {
   "cell_type": "code",
   "execution_count": 8,
   "metadata": {},
   "outputs": [],
   "source": [
    "directory_path = 'JSSP_Instances'\n",
    "directory_files = os.listdir(directory_path)\n",
    "directory_files.sort()"
   ]
  },
  {
   "cell_type": "code",
   "execution_count": 9,
   "metadata": {},
   "outputs": [],
   "source": [
    "import openpyxl\n",
    "\n",
    "def write_xlsx(machine_order, makespan, time, name_sheet, name_file):\n",
    "    # Create a new workbook and select the active sheet\n",
    "    try:\n",
    "        workbook = openpyxl.load_workbook(name_file)\n",
    "        sheet = workbook.create_sheet(name_sheet)\n",
    "    except:\n",
    "        workbook = openpyxl.Workbook()\n",
    "        sheet = workbook.create_sheet(name_sheet)\n",
    "\n",
    "    # Iterate over the matrix and write its values to the sheet\n",
    "    for row_index, row in enumerate(machine_order, start=1):\n",
    "        for col_index, value in enumerate(row, start=1):\n",
    "            sheet.cell(row=row_index, column=col_index, value=value)\n",
    "    \n",
    "    sheet.cell(row=row_index+1, column=1, value=makespan)\n",
    "    sheet.cell(row=row_index+1, column=2, value=time)\n",
    "\n",
    "    # Save the workbook to a file\n",
    "    workbook.save(name_file)\n",
    "\n",
    "    # Close the workbook\n",
    "    workbook.close()"
   ]
  },
  {
   "cell_type": "code",
   "execution_count": 10,
   "metadata": {},
   "outputs": [
    {
     "name": "stdout",
     "output_type": "stream",
     "text": [
      "JSSP1.txt :  1462      1380      1409       977\n",
      "JSSP10.txt :  2710      2568      2418       1761\n",
      "JSSP11.txt :  3856      3367      3266       2760\n",
      "JSSP12.txt :  3266      3146      3243       2756\n",
      "JSSP13.txt :  3606      3335      3461       2868\n",
      "JSSP14.txt :  3639      3417      3478       2848\n",
      "JSSP15.txt :  6232      5905      6060       5464\n",
      "JSSP16.txt :  5973      5724      5729       5181\n",
      "JSSP2.txt :  1446      1399      1398       919\n",
      "JSSP3.txt :  1865      1751      1615       1139\n",
      "JSSP4.txt :  1667      1591      1637       1251\n",
      "JSSP5.txt :  2175      1983      2025       1182\n",
      "JSSP6.txt :  1965      1871      1903       1240\n",
      "JSSP7.txt :  2335      2096      2140       1764\n",
      "JSSP8.txt :  2432      2241      2195       1774\n",
      "JSSP9.txt :  2499      2413      2547       1830\n"
     ]
    }
   ],
   "source": [
    "#Reading all the information\n",
    "for file in directory_files:\n",
    "  with open(directory_path + \"/\" + file, \"r\" ) as f:\n",
    "  #with open(\"AAA_test\", \"r\" ) as f:\n",
    "    size = f.readline().split()\n",
    "    # n = trabajos, m = maquinas\n",
    "    n, m = int(size[0]), int(size[1])\n",
    "    data = list(f)\n",
    "    for i,line in enumerate(data):\n",
    "      data[i] = [int(x) for x in line.strip().split() if x is not None and x != '']\n",
    "\n",
    "    processing_time = data[0:n]\n",
    "    machines_required = data[n:2*n]\n",
    "  \n",
    "  # Cota inferior\n",
    "  machines = {i:[[ j+1, processing_time[j][z], z, False] for z in range(m) for j in range(n)  if machines_required[j][z] == i]for i in range(1,m+1)}\n",
    "  cota_inferior = max([sum([x[1] for x in machines[i]]) for i in machines])\n",
    "\n",
    "  # Create job objects\n",
    "  jobs_constr = [constr.Job(np.array(machines_required)[i, :], np.array(processing_time)[i, :], i + 1) for i in range(n)]\n",
    "  jobs_ruido = [ruido.Job(np.array(machines_required)[i, :], np.array(processing_time)[i, :], i + 1, 0.1) for i in range(n)]\n",
    "  jobs_aleat = [aleat.Job(np.array(machines_required)[i, :], np.array(processing_time)[i, :], i + 1) for i in range(n)]\n",
    "\n",
    "  #Sorted array in which the first value is always the first machine that \n",
    "  machines_constr = [constr.Machine(i+1) for i in range(m)]\n",
    "  machines_ruido = [ruido.Machine(i+1) for i in range(m)]\n",
    "  machines_aleat = [aleat.Machine(i+1) for i in range(m)]\n",
    "\n",
    "  # Record the start time\n",
    "  constr_start_time = time.time(); ans_constr, machine_order_constr = constr.constructivo(jobs_constr, machines_constr); constr_end_time = time.time()\n",
    "  ruido_start_time = time.time(); ans_ruido, machine_order_ruido, _ = ruido.aleatorio(jobs_ruido, machines_ruido); ruido_end_time = time.time()\n",
    "  aleat_start_time = time.time(); ans_aleat, machine_order_aleat = aleat.eleccion_aleatoria(jobs_aleat, machines_aleat); aleat_end_time = time.time()\n",
    "  \n",
    "  #Save the results in excel worksheets\n",
    "  write_xlsx(machine_order_constr, ans_constr, constr_end_time - constr_start_time, file, \"JSSP_coberndorm_Constructivo.xlsx\")\n",
    "  write_xlsx(machine_order_ruido, ans_ruido, ruido_end_time - ruido_start_time, file, \"JSSP_coberndorm_Ruido.xlsx\")\n",
    "  write_xlsx(machine_order_aleat, ans_aleat, aleat_end_time - aleat_start_time, file, \"JSSP_coberndorm_Aleatorio.xlsx\")\n",
    "\n",
    "  print(file, \": \", ans_constr, \"    \", ans_ruido, \"    \", ans_aleat, \"     \", cota_inferior)"
   ]
  }
 ],
 "metadata": {
  "kernelspec": {
   "display_name": ".venv",
   "language": "python",
   "name": "python3"
  },
  "language_info": {
   "codemirror_mode": {
    "name": "ipython",
    "version": 3
   },
   "file_extension": ".py",
   "mimetype": "text/x-python",
   "name": "python",
   "nbconvert_exporter": "python",
   "pygments_lexer": "ipython3",
   "version": "3.10.12"
  },
  "orig_nbformat": 4
 },
 "nbformat": 4,
 "nbformat_minor": 2
}
