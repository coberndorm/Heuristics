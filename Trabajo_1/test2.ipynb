{
 "cells": [
  {
   "cell_type": "code",
   "execution_count": 5,
   "metadata": {},
   "outputs": [
    {
     "name": "stdout",
     "output_type": "stream",
     "text": [
      "2\n",
      "4\n",
      "3\n",
      "1\n",
      "4\n",
      "3\n",
      "2\n",
      "1\n",
      "3\n",
      "1\n",
      "2\n",
      "4\n",
      "Makespan: 89\n"
     ]
    }
   ],
   "source": [
    "def calculate_makespan(jobs, machines, durations, order):\n",
    "    n = len(jobs)\n",
    "    m = len(machines)\n",
    "    \n",
    "    # Initialize an array to keep track of the time each machine is available\n",
    "    machine_available_time = [0] * m\n",
    "    \n",
    "    # Initialize an array to keep track of the time each job is completed\n",
    "    job_completion_time = [0] * n\n",
    "    \n",
    "    # Loop through each machine\n",
    "    for machine_index in range(m):\n",
    "        machine = machines[machine_index]\n",
    "        machine_order = order[machine_index]\n",
    "        \n",
    "        # Loop through each job in the machine's order\n",
    "        for job_index in machine_order:\n",
    "            job = jobs[job_index - 1]  # Job index starts from 1, not 0\n",
    "            duration = durations[job_index - 1][machine - 1]  # Duration for this job on this machine\n",
    "            start_time = max(machine_available_time[machine_index], job_completion_time[job_index - 1])\n",
    "            end_time = start_time + duration\n",
    "            \n",
    "            # Update the machine's available time and job's completion time\n",
    "            machine_available_time[machine_index] = end_time\n",
    "            job_completion_time[job_index - 1] = end_time\n",
    "    \n",
    "    # The makespan is the maximum completion time of all jobs\n",
    "    makespan = max(job_completion_time)\n",
    "    \n",
    "    return makespan\n",
    "\n",
    "# Example data\n",
    "n = 4\n",
    "m = 3\n",
    "durations = [\n",
    "    [12, 10, 12],\n",
    "    [6, 8, 6],\n",
    "    [4, 9, 4],\n",
    "    [15, 10, 13],\n",
    "    [3, 1, 2],\n",
    "    [1, 3, 2],\n",
    "    [3, 2, 1],\n",
    "    [2, 1, 3]\n",
    "]\n",
    "\n",
    "order = [\n",
    "    [2, 4, 3, 1],\n",
    "    [4, 3, 2, 1],\n",
    "    [3, 1, 2, 4]\n",
    "]\n",
    "\n",
    "# Calculate makespan\n",
    "makespan = calculate_makespan(list(range(1, n + 1)), list(range(1, m + 1)), durations, order)\n",
    "print(\"Makespan:\", makespan)\n"
   ]
  },
  {
   "cell_type": "code",
   "execution_count": null,
   "metadata": {},
   "outputs": [],
   "source": [
    "E = 1:n\n",
    "\n",
    "for act in range(n*m):\n",
    "    sel.job = find(E==)"
   ]
  }
 ],
 "metadata": {
  "kernelspec": {
   "display_name": ".venv",
   "language": "python",
   "name": "python3"
  },
  "language_info": {
   "codemirror_mode": {
    "name": "ipython",
    "version": 3
   },
   "file_extension": ".py",
   "mimetype": "text/x-python",
   "name": "python",
   "nbconvert_exporter": "python",
   "pygments_lexer": "ipython3",
   "version": "3.10.12"
  },
  "orig_nbformat": 4
 },
 "nbformat": 4,
 "nbformat_minor": 2
}
