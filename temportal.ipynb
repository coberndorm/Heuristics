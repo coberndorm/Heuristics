{
 "cells": [
  {
   "cell_type": "code",
   "execution_count": 1,
   "metadata": {},
   "outputs": [],
   "source": [
    "import numpy as np"
   ]
  },
  {
   "cell_type": "code",
   "execution_count": 2,
   "metadata": {},
   "outputs": [],
   "source": [
    "# Define job class\n",
    "class Job:\n",
    "    def __init__(self, mach_req, proc_time, number, rand=0.1):\n",
    "        self.mach_req = mach_req  # Machines required for the job\n",
    "        self.proc_time = np.array(proc_time)  # Processing times for the job on each machine\n",
    "        rand_val = np.ceil(self.proc_time*np.random.random(size=self.proc_time.size)*rand)  # Random values for the job on each machine\n",
    "        self.proc_time_random = self.proc_time + rand_val  # Randomized processing times for the job on each machine\n",
    "        self.stage = [False] * len(mach_req)  # Stages of the job completed on machines\n",
    "        self.counter = 0  # Index to track the current machine for the job\n",
    "        self.mach_needed = self.mach_req[0]  # Current machine needed for the job\n",
    "        self.number = number  # Job number\n",
    "        self.free_time = 0  # Time when the job becomes available for scheduling\n",
    "        self.job_done = False  # Flag to indicate if the job is completed\n",
    "\n",
    "    def __lt__(self, other):\n",
    "        # Comparison method to determine if this job has a shorter processing time\n",
    "        return self.proc_time[self.counter] < other.proc_time[other.counter]\n",
    "    \n",
    "    def __add__(self, other):\n",
    "        # Add the job's processing time to another object's free time\n",
    "        return self.proc_time[self.counter] + other.free_time\n",
    "    \n",
    "    def __le__(self, other):\n",
    "        # Comparison method to determine if this job can be scheduled on a machine\n",
    "        return self.free_time <= other.free_time\n",
    "    \n",
    "    def __bool__(self):\n",
    "        # Boolean representation of a job indicating if it's completed\n",
    "        return self.job_done\n",
    "    \n",
    "\n",
    "# Define machine class\n",
    "class Machine:\n",
    "    def __init__(self, number):\n",
    "        self.free = True  # Flag to indicate if the machine is free\n",
    "        self.free_time = 0  # Time when the machine becomes available for scheduling\n",
    "        self.number = number  # Machine number\n",
    "\n",
    "    def __lt__(self, other):\n",
    "        # Comparison method to determine if this machine has a shorter free time\n",
    "        return self.free_time < other.free_time\n",
    "    \n",
    "    def __le__(self, other):\n",
    "        # Comparison method to determine if this machine has an earlier or equal free time\n",
    "        return self.free_time <= other.free_time\n",
    "\n"
   ]
  },
  {
   "cell_type": "code",
   "execution_count": 3,
   "metadata": {},
   "outputs": [],
   "source": [
    "def shortest_job(jobs,mach):\n",
    "    # Set the number of the machine free\n",
    "    mach_num = mach.number\n",
    "\n",
    "    # Initialize arrays for available jobs and their processing times\n",
    "    job_mach_free = []\n",
    "\n",
    "    for job in jobs:\n",
    "        # Get processing times for jobs that require the current machine\n",
    "        # Considerar como cambia el algoritmo si se pone mach <= job\n",
    "        if not job.job_done and job.mach_req[job.counter] == mach_num and job <= mach:\n",
    "            job_mach_free.append(job)\n",
    "        \n",
    "    if job_mach_free == []:\n",
    "        mach.free_time += 1\n",
    "        return\n",
    "    \n",
    "    # Find the job with the shortest processing time\n",
    "    job_next = min(job_mach_free)\n",
    "    if job_next.free_time != mach.free_time:\n",
    "        job_next.free_time = mach.free_time\n",
    "    \n",
    "    processing_time = job_next.proc_time_random[job_next.counter]\n",
    "\n",
    "    # Mark the job as done for this stage\n",
    "    job_next.stage[job_next.counter] = True\n",
    "    job_next.counter += 1\n",
    "    if all(job_next.stage):\n",
    "        job_next.job_done = True\n",
    "\n",
    "    return job_next, processing_time\n",
    "\n",
    "\n",
    "def aleatorio(jobs, machines):\n",
    "    # Initialize answer list\n",
    "    # name as follows dict(Task=, Start=, End=, Resource=)\n",
    "    ans = []\n",
    "\n",
    "    # Track the order in which jobs pass through each machine\n",
    "    machine_order = [[] for _ in range(len(machines))]\n",
    "\n",
    "    while not all(jobs):\n",
    "        # Find the machine with the earliest free time\n",
    "        mach = min(machines)\n",
    "\n",
    "        a = shortest_job(jobs, mach)\n",
    "        if a != None:\n",
    "            job_next, processing_time = a[0], a[1]\n",
    "        else:\n",
    "            continue\n",
    "\n",
    "        # Add the job's info to the answer list\n",
    "        ans.append({\n",
    "            'Task': 'Job ' + str(job_next.number),\n",
    "            'Start': mach.free_time,\n",
    "            'End': mach.free_time + processing_time,\n",
    "            'Resource': 'M. ' + str(mach.number)\n",
    "        })\n",
    "\n",
    "        # Update the machine's free time\n",
    "        job_next.free_time += processing_time\n",
    "        mach.free_time += processing_time\n",
    "    \n",
    "        # Track the order in which this job passed through the machine\n",
    "        machine_order[mach.number - 1].append(job_next.number)\n",
    "    \n",
    "    return ans, machine_order"
   ]
  },
  {
   "cell_type": "code",
   "execution_count": 9,
   "metadata": {},
   "outputs": [
    {
     "data": {
      "text/plain": [
       "89"
      ]
     },
     "execution_count": 9,
     "metadata": {},
     "output_type": "execute_result"
    }
   ],
   "source": [
    "def calculate_makespan(schedule, processing_time):\n",
    "    n = len(processing_time)\n",
    "    m = len(processing_time[0])\n",
    "\n",
    "    # Initialize completion times for each machine\n",
    "    machine_completion_times = [0] * m\n",
    "\n",
    "    # Initialize completion times for each job\n",
    "    job_completion_times = [0] * n\n",
    "\n",
    "    for j, machine_order in enumerate(schedule):\n",
    "        for job_number in machine_order:\n",
    "            machine_number = j  # Machine number corresponds to the index in the list\n",
    "            job_number -= 1  # Adjust job number to match list indexing (0-based)\n",
    "\n",
    "            # Calculate the start time of the job on the machine\n",
    "            start_time = max(job_completion_times[job_number], machine_completion_times[machine_number])\n",
    "\n",
    "            # Update the completion times for the job and the machine\n",
    "            job_completion_times[job_number] = start_time + processing_time[job_number][machine_number]\n",
    "            machine_completion_times[machine_number] = start_time + processing_time[job_number][machine_number]\n",
    "\n",
    "    # The makespan is the maximum completion time of any job\n",
    "    makespan = max(job_completion_times)\n",
    "    \n",
    "    return makespan\n",
    "\n",
    "# Example usage:\n",
    "# schedule is a list of lists containing the order of jobs passing through each machine\n",
    "# processing_time is a list of lists containing processing times for each job on each machine\n",
    "calculate_makespan(machine_order, processing_time)\n"
   ]
  },
  {
   "cell_type": "code",
   "execution_count": 4,
   "metadata": {},
   "outputs": [],
   "source": [
    "#with open(directory_path + \"/\" + file, \"r\" ) as f:\n",
    "with open(\"AAA_test\", \"r\" ) as f:\n",
    "    size = f.readline().split()\n",
    "    # n = trabajos, m = maquinas\n",
    "    n, m = int(size[0]), int(size[1])\n",
    "    data = list(f)\n",
    "    for i,line in enumerate(data):\n",
    "      data[i] = [int(x) for x in line.strip().split() if x is not None and x != '']\n",
    "\n",
    "    processing_time = data[0:n]\n",
    "    machines_required = data[n:2*n]\n",
    "\n",
    "# Create job objects\n",
    "jobs = [Job(np.array(machines_required)[i, :], np.array(processing_time)[i, :], i + 1, 0) for i in range(n)]\n",
    "\n",
    "#Sorted array in which the first value is always the first machine that \n",
    "machines = [Machine(i+1) for i in range(m)]\n",
    "\n",
    "ans, machine_order = aleatorio(jobs, machines)\n"
   ]
  },
  {
   "cell_type": "code",
   "execution_count": 5,
   "metadata": {},
   "outputs": [
    {
     "data": {
      "text/plain": [
       "[[2, 4, 3, 1], [4, 3, 2, 1], [3, 1, 2, 4]]"
      ]
     },
     "execution_count": 5,
     "metadata": {},
     "output_type": "execute_result"
    }
   ],
   "source": [
    "machine_order"
   ]
  }
 ],
 "metadata": {
  "kernelspec": {
   "display_name": ".venv",
   "language": "python",
   "name": "python3"
  },
  "language_info": {
   "codemirror_mode": {
    "name": "ipython",
    "version": 3
   },
   "file_extension": ".py",
   "mimetype": "text/x-python",
   "name": "python",
   "nbconvert_exporter": "python",
   "pygments_lexer": "ipython3",
   "version": "3.11.5"
  },
  "orig_nbformat": 4
 },
 "nbformat": 4,
 "nbformat_minor": 2
}
